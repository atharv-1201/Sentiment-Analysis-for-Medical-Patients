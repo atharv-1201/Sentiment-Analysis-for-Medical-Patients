{
 "cells": [
  {
   "cell_type": "code",
   "execution_count": 1,
   "id": "2a838387",
   "metadata": {},
   "outputs": [
    {
     "name": "stdout",
     "output_type": "stream",
     "text": [
      "Topic 1:\n",
      "of, patient, and, with, in\n",
      "\n",
      "Topic 2:\n",
      "to, for, with, up, follow\n",
      "\n",
      "Topic 3:\n",
      "and, pain, patient, discharged, week\n",
      "\n",
      "Topic 4:\n",
      "of, and, antibiotics, history, heart\n",
      "\n",
      "Topic 5:\n",
      "and, patient, of, antibiotics, includes\n",
      "\n"
     ]
    }
   ],
   "source": [
    "from sklearn.feature_extraction.text import CountVectorizer\n",
    "from sklearn.decomposition import LatentDirichletAllocation\n",
    "\n",
    "# Sample medical transcripts (replace with your actual transcripts)\n",
    "medical_transcripts = [\n",
    "    \"Patient presented with symptoms of cough and shortness of breath.\",\n",
    "    \"Physical examination revealed elevated temperature and wheezing.\",\n",
    "    \"Diagnosis confirmed as bronchitis, prescribed antibiotics and inhaler.\",\n",
    "    \"Patient complains of chest pain and difficulty breathing.\",\n",
    "    \"Lab results indicate high levels of inflammation.\",\n",
    "    \"Treatment plan includes rest, hydration, and pain management.\",\n",
    "    \"Patient discharged with instructions to follow up in one week.\",\n",
    "    \"Patient history includes hypertension and diabetes.\",\n",
    "    \"X-ray shows signs of pneumonia in the left lung.\",\n",
    "    \"Administered IV fluids and antibiotics.\",\n",
    "    \"Scheduled for follow-up appointment with primary care physician.\",\n",
    "    \"Family history of heart disease and asthma.\",\n",
    "    \"Performed ECG to monitor heart function.\",\n",
    "    \"Patient referred to cardiologist for further evaluation.\",\n",
    "    \"Recommend lifestyle changes and medication adherence.\"\n",
    "]\n",
    "\n",
    "# Convert text data to document-term matrix\n",
    "vectorizer = CountVectorizer()\n",
    "X = vectorizer.fit_transform(medical_transcripts)\n",
    "\n",
    "# Define LDA model\n",
    "num_topics = 5  # Number of topics (adjust as needed)\n",
    "lda_model = LatentDirichletAllocation(n_components=num_topics, random_state=42)\n",
    "lda_model.fit(X)\n",
    "\n",
    "# Print top words associated with each topic\n",
    "feature_names = vectorizer.get_feature_names_out()\n",
    "for topic_idx, topic in enumerate(lda_model.components_):\n",
    "    print(f\"Topic {topic_idx + 1}:\")\n",
    "    top_words_idx = topic.argsort()[:-6:-1]  # Get indices of top 5 words\n",
    "    top_words = [feature_names[i] for i in top_words_idx]\n",
    "    print(\", \".join(top_words))\n",
    "    print()\n"
   ]
  },
  {
   "cell_type": "code",
   "execution_count": null,
   "id": "46fc1b5f",
   "metadata": {},
   "outputs": [],
   "source": []
  }
 ],
 "metadata": {
  "kernelspec": {
   "display_name": "Python [conda env:base] *",
   "language": "python",
   "name": "conda-base-py"
  },
  "language_info": {
   "codemirror_mode": {
    "name": "ipython",
    "version": 3
   },
   "file_extension": ".py",
   "mimetype": "text/x-python",
   "name": "python",
   "nbconvert_exporter": "python",
   "pygments_lexer": "ipython3",
   "version": "3.12.7"
  }
 },
 "nbformat": 4,
 "nbformat_minor": 5
}
